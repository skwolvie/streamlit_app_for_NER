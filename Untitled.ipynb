{
 "cells": [
  {
   "cell_type": "code",
   "execution_count": 1,
   "id": "5a7994ec",
   "metadata": {},
   "outputs": [
    {
     "name": "stdout",
     "output_type": "stream",
     "text": [
      "Collecting newspaper3k\n",
      "  Downloading newspaper3k-0.2.8-py3-none-any.whl (211 kB)\n",
      "Requirement already satisfied: lxml>=3.6.0 in c:\\programdata\\anaconda3\\lib\\site-packages (from newspaper3k) (4.6.3)\n",
      "Collecting jieba3k>=0.35.1\n",
      "  Downloading jieba3k-0.35.1.zip (7.4 MB)\n",
      "  Preparing metadata (setup.py): started\n",
      "  Preparing metadata (setup.py): finished with status 'done'\n",
      "Requirement already satisfied: requests>=2.10.0 in c:\\programdata\\anaconda3\\lib\\site-packages (from newspaper3k) (2.25.1)\n",
      "Requirement already satisfied: python-dateutil>=2.5.3 in c:\\programdata\\anaconda3\\lib\\site-packages (from newspaper3k) (2.8.1)\n",
      "Collecting tinysegmenter==0.3\n",
      "  Downloading tinysegmenter-0.3.tar.gz (16 kB)\n",
      "  Preparing metadata (setup.py): started\n",
      "  Preparing metadata (setup.py): finished with status 'done'\n",
      "Requirement already satisfied: Pillow>=3.3.0 in c:\\programdata\\anaconda3\\lib\\site-packages (from newspaper3k) (8.2.0)\n",
      "Collecting tldextract>=2.0.1\n",
      "  Downloading tldextract-3.4.0-py3-none-any.whl (93 kB)\n",
      "Collecting feedfinder2>=0.0.4\n",
      "  Downloading feedfinder2-0.0.4.tar.gz (3.3 kB)\n",
      "  Preparing metadata (setup.py): started\n",
      "  Preparing metadata (setup.py): finished with status 'done'\n",
      "Collecting feedparser>=5.2.1\n",
      "  Downloading feedparser-6.0.10-py3-none-any.whl (81 kB)\n",
      "Requirement already satisfied: PyYAML>=3.11 in c:\\programdata\\anaconda3\\lib\\site-packages (from newspaper3k) (5.4.1)\n",
      "Requirement already satisfied: beautifulsoup4>=4.4.1 in c:\\programdata\\anaconda3\\lib\\site-packages (from newspaper3k) (4.9.3)\n",
      "Requirement already satisfied: nltk>=3.2.1 in c:\\programdata\\anaconda3\\lib\\site-packages (from newspaper3k) (3.6.1)\n",
      "Collecting cssselect>=0.9.2\n",
      "  Downloading cssselect-1.2.0-py2.py3-none-any.whl (18 kB)\n",
      "Requirement already satisfied: soupsieve>1.2 in c:\\programdata\\anaconda3\\lib\\site-packages (from beautifulsoup4>=4.4.1->newspaper3k) (2.2.1)\n",
      "Requirement already satisfied: six in c:\\programdata\\anaconda3\\lib\\site-packages (from feedfinder2>=0.0.4->newspaper3k) (1.15.0)\n",
      "Collecting sgmllib3k\n",
      "  Downloading sgmllib3k-1.0.0.tar.gz (5.8 kB)\n",
      "  Preparing metadata (setup.py): started\n",
      "  Preparing metadata (setup.py): finished with status 'done'\n",
      "Requirement already satisfied: click in c:\\programdata\\anaconda3\\lib\\site-packages (from nltk>=3.2.1->newspaper3k) (7.1.2)\n",
      "Requirement already satisfied: tqdm in c:\\programdata\\anaconda3\\lib\\site-packages (from nltk>=3.2.1->newspaper3k) (4.59.0)\n",
      "Requirement already satisfied: joblib in c:\\programdata\\anaconda3\\lib\\site-packages (from nltk>=3.2.1->newspaper3k) (1.0.1)\n",
      "Requirement already satisfied: regex in c:\\programdata\\anaconda3\\lib\\site-packages (from nltk>=3.2.1->newspaper3k) (2021.4.4)\n",
      "Requirement already satisfied: urllib3<1.27,>=1.21.1 in c:\\programdata\\anaconda3\\lib\\site-packages (from requests>=2.10.0->newspaper3k) (1.26.4)\n",
      "Requirement already satisfied: chardet<5,>=3.0.2 in c:\\programdata\\anaconda3\\lib\\site-packages (from requests>=2.10.0->newspaper3k) (4.0.0)\n",
      "Requirement already satisfied: idna<3,>=2.5 in c:\\programdata\\anaconda3\\lib\\site-packages (from requests>=2.10.0->newspaper3k) (2.10)\n",
      "Requirement already satisfied: certifi>=2017.4.17 in c:\\programdata\\anaconda3\\lib\\site-packages (from requests>=2.10.0->newspaper3k) (2020.12.5)\n",
      "Requirement already satisfied: filelock>=3.0.8 in c:\\programdata\\anaconda3\\lib\\site-packages (from tldextract>=2.0.1->newspaper3k) (3.0.12)\n",
      "Collecting requests-file>=1.4\n",
      "  Downloading requests_file-1.5.1-py2.py3-none-any.whl (3.7 kB)\n",
      "Building wheels for collected packages: tinysegmenter, feedfinder2, jieba3k, sgmllib3k\n",
      "  Building wheel for tinysegmenter (setup.py): started\n",
      "  Building wheel for tinysegmenter (setup.py): finished with status 'done'\n",
      "  Created wheel for tinysegmenter: filename=tinysegmenter-0.3-py3-none-any.whl size=13553 sha256=2f862b39ce3b77c2145e64f62f1791831035b96c86e813ed6aac9b0eb2ccafb8\n",
      "  Stored in directory: c:\\users\\arjun\\appdata\\local\\pip\\cache\\wheels\\99\\74\\83\\8fac1c8d9c648cfabebbbffe97a889f6624817f3aa0bbe6c09\n",
      "  Building wheel for feedfinder2 (setup.py): started\n",
      "  Building wheel for feedfinder2 (setup.py): finished with status 'done'\n",
      "  Created wheel for feedfinder2: filename=feedfinder2-0.0.4-py3-none-any.whl size=3357 sha256=9b8626207c810c53eecec22193aceb0a901c36cdc6cac43aa68e8aba243dfc39\n",
      "  Stored in directory: c:\\users\\arjun\\appdata\\local\\pip\\cache\\wheels\\b6\\09\\68\\a9f15498ac02c23dde29f18745bc6a6f574ba4ab41861a3575\n",
      "  Building wheel for jieba3k (setup.py): started\n",
      "  Building wheel for jieba3k (setup.py): finished with status 'done'\n",
      "  Created wheel for jieba3k: filename=jieba3k-0.35.1-py3-none-any.whl size=7398404 sha256=8a429fdca580aa91623979587233fcac2ac7556edde89560a35cab004c8c9337\n",
      "  Stored in directory: c:\\users\\arjun\\appdata\\local\\pip\\cache\\wheels\\1f\\7e\\0c\\54f3b0f5164278677899f2db08f2b07943ce2d024a3c862afb\n",
      "  Building wheel for sgmllib3k (setup.py): started\n",
      "  Building wheel for sgmllib3k (setup.py): finished with status 'done'\n",
      "  Created wheel for sgmllib3k: filename=sgmllib3k-1.0.0-py3-none-any.whl size=6066 sha256=2fb4a7ee22c210b0045b760093e3a506dd4e37e1eda1bc7cfb837bc2bf1e0ea4\n",
      "  Stored in directory: c:\\users\\arjun\\appdata\\local\\pip\\cache\\wheels\\83\\63\\2f\\117884c3b19d46b64d3d61690333aa80c88dc14050e269c546\n",
      "Successfully built tinysegmenter feedfinder2 jieba3k sgmllib3k\n",
      "Installing collected packages: sgmllib3k, requests-file, tldextract, tinysegmenter, jieba3k, feedparser, feedfinder2, cssselect, newspaper3k\n",
      "Successfully installed cssselect-1.2.0 feedfinder2-0.0.4 feedparser-6.0.10 jieba3k-0.35.1 newspaper3k-0.2.8 requests-file-1.5.1 sgmllib3k-1.0.0 tinysegmenter-0.3 tldextract-3.4.0\n"
     ]
    },
    {
     "name": "stderr",
     "output_type": "stream",
     "text": [
      "WARNING: Ignoring invalid distribution -5py (c:\\programdata\\anaconda3\\lib\\site-packages)\n",
      "WARNING: Ignoring invalid distribution -umpy (c:\\programdata\\anaconda3\\lib\\site-packages)\n",
      "WARNING: Ignoring invalid distribution -5py (c:\\programdata\\anaconda3\\lib\\site-packages)\n",
      "WARNING: Ignoring invalid distribution -umpy (c:\\programdata\\anaconda3\\lib\\site-packages)\n",
      "WARNING: Ignoring invalid distribution -5py (c:\\programdata\\anaconda3\\lib\\site-packages)\n",
      "WARNING: Ignoring invalid distribution -umpy (c:\\programdata\\anaconda3\\lib\\site-packages)\n",
      "WARNING: Ignoring invalid distribution -5py (c:\\programdata\\anaconda3\\lib\\site-packages)\n",
      "WARNING: Ignoring invalid distribution -umpy (c:\\programdata\\anaconda3\\lib\\site-packages)\n",
      "WARNING: Ignoring invalid distribution -5py (c:\\programdata\\anaconda3\\lib\\site-packages)\n",
      "WARNING: Ignoring invalid distribution -umpy (c:\\programdata\\anaconda3\\lib\\site-packages)\n",
      "WARNING: Ignoring invalid distribution -5py (c:\\programdata\\anaconda3\\lib\\site-packages)\n",
      "WARNING: Ignoring invalid distribution -umpy (c:\\programdata\\anaconda3\\lib\\site-packages)\n",
      "WARNING: Ignoring invalid distribution -5py (c:\\programdata\\anaconda3\\lib\\site-packages)\n",
      "WARNING: Ignoring invalid distribution -umpy (c:\\programdata\\anaconda3\\lib\\site-packages)\n",
      "WARNING: Ignoring invalid distribution -5py (c:\\programdata\\anaconda3\\lib\\site-packages)\n",
      "WARNING: Ignoring invalid distribution -umpy (c:\\programdata\\anaconda3\\lib\\site-packages)\n",
      "WARNING: Ignoring invalid distribution -5py (c:\\programdata\\anaconda3\\lib\\site-packages)\n",
      "WARNING: Ignoring invalid distribution -umpy (c:\\programdata\\anaconda3\\lib\\site-packages)\n",
      "WARNING: Ignoring invalid distribution -5py (c:\\programdata\\anaconda3\\lib\\site-packages)\n",
      "WARNING: Ignoring invalid distribution -umpy (c:\\programdata\\anaconda3\\lib\\site-packages)\n",
      "WARNING: Ignoring invalid distribution -5py (c:\\programdata\\anaconda3\\lib\\site-packages)\n",
      "WARNING: Ignoring invalid distribution -umpy (c:\\programdata\\anaconda3\\lib\\site-packages)\n",
      "WARNING: You are using pip version 21.3.1; however, version 22.3.1 is available.\n",
      "You should consider upgrading via the 'C:\\ProgramData\\Anaconda3\\python.exe -m pip install --upgrade pip' command.\n"
     ]
    }
   ],
   "source": [
    "!pip3 install newspaper3k\n"
   ]
  },
  {
   "cell_type": "code",
   "execution_count": 6,
   "id": "b91afbc8",
   "metadata": {},
   "outputs": [
    {
     "name": "stdout",
     "output_type": "stream",
     "text": [
      "Andy Jassy, chief executive officer of Amazon.Com Inc., speaks during the GeekWire Summit in Seattle, Washington, U.S., on Tuesday, Oct. 5, 2021.\n",
      "\n",
      "Amazon on Tuesday began laying off employees in its corporate and tech workforce as CEO Andy Jassy steps up efforts to rein in costs.\n",
      "\n",
      "The company notified workers in several divisions, including Alexa and the Luna cloud gaming unit, that they were being let go, according to LinkedIn posts from Amazon employees who said they had been impacted.\n",
      "\n",
      "Amazon is aiming to eliminate about 10,000 jobs, mostly in retail, devices and human resources, The New York Times reported Monday. The number remains fluid because the cuts are being implemented by individual teams, according to the Times.\n",
      "\n",
      "By midday Tuesday, Amazon had not sent out any companywide communication about the planned layoffs, which sparked frustration among employees, according to a person familiar with the matter who asked not to be named because of confidentiality.\n",
      "\n",
      "Representatives from Amazon declined to comment.\n",
      "\n",
      "In recent weeks, Amazon also began laying off some contracted employees who worked in recruiting roles for its advertising, internal operations, and Fire TV divisions, according to people with knowledge of the cuts.\n",
      "\n",
      "One employee, who asked to remain anonymous, said Amazon informed her earlier this month that it wouldn't be renewing her contract. Last month, she was in talks to pursue a full-time role in Amazon's consumer division, but her interview was abruptly canceled due to ongoing restructuring, she was told.\n",
      "Amazon starts cutting jobs, with layoffs hitting Alexa unit and cloud gaming division\n",
      "kk\n",
      "[]\n"
     ]
    },
    {
     "data": {
      "text/plain": [
       "''"
      ]
     },
     "execution_count": 6,
     "metadata": {},
     "output_type": "execute_result"
    }
   ],
   "source": [
    "from newspaper import Article\n",
    "\n",
    "url = 'https://www.cnbc.com/2022/11/15/amazon-starts-cutting-jobs-in-alexa-unit-and-cloud-gaming-division.html'\n",
    "a = Article(url, language='en')\n",
    "a.download()\n",
    "a.parse()\n",
    "print(a.text[:])\n",
    "print(a.title)\n",
    "print(\"kk\")\n",
    "print(a.keywords)\n",
    "a.summary"
   ]
  },
  {
   "cell_type": "code",
   "execution_count": 5,
   "id": "96397e9f",
   "metadata": {},
   "outputs": [
    {
     "data": {
      "text/plain": [
       "[]"
      ]
     },
     "execution_count": 5,
     "metadata": {},
     "output_type": "execute_result"
    }
   ],
   "source": [
    "a.authors\n"
   ]
  },
  {
   "cell_type": "code",
   "execution_count": 7,
   "id": "4eaa7a3e",
   "metadata": {},
   "outputs": [],
   "source": [
    "from summarizer import Summarizer,TransformerSummarizer"
   ]
  },
  {
   "cell_type": "code",
   "execution_count": 10,
   "id": "1acdd65f",
   "metadata": {},
   "outputs": [],
   "source": [
    "body = '''\n",
    "Amazon\n",
    " on Tuesday began laying off employees in its corporate and tech workforce as CEO Andy Jassy steps up efforts to rein in costs.\n",
    "\n",
    "The company notified workers in several divisions, including Alexa and the Luna cloud gaming unit, that they were being let go, according to LinkedIn posts from Amazon employees who said they had been impacted.\n",
    "\n",
    "Amazon is aiming to eliminate about 10,000 jobs, mostly in retail, devices and human resources, The New York Times reported Monday. The number remains fluid because the cuts are being implemented by individual teams, according to the Times.\n",
    "\n",
    "By midday Tuesday, Amazon had not sent out any companywide communication about the planned layoffs, which sparked frustration among employees, according to a person familiar with the matter who asked not to be named because of confidentiality.\n",
    "\n",
    "Representatives from Amazon declined to comment.\n",
    "\n",
    "In recent weeks, Amazon also began laying off some contracted employees who worked in recruiting roles for its advertising, internal operations, and Fire TV divisions, according to people with knowledge of the cuts.\n",
    "\n",
    "One employee, who asked to remain anonymous, said Amazon informed her earlier this month that it wouldn’t be renewing her contract. Last month, she was in talks to pursue a full-time role in Amazon’s consumer division, but her interview was abruptly canceled due to ongoing restructuring, she was told.\n",
    "\n",
    "The  Amazon Spheres, part of the Amazon headquarters campus, right, in the South Lake Union neighborhood of Seattle, Washington, U.S., on Sunday, Oct. 24, 2021. Concerns about Covid, crime and homelessness  and open warfare between the city government and parts of its lucrative tech and business sector   have emptied Seattle's commercial districts. Voters are hoping a new mayor will turn things around  but even though most are Democrats, they disagree on what change is needed. Photographer: Chona Kasing\n",
    "The Amazon Spheres, part of the Amazon headquarters campus, right, in the South Lake Union neighborhood of Seattle, Washington, U.S., on Sunday, Oct. 24, 2021.\n",
    "Chona Kasinger | Bloomberg | Getty Images\n",
    "Jassy has aggressively curtailed expenses across the company in recent months as it stares down a weakening economy and slowing growth in its retail business. Previously, the company said it would pause hiring among its corporate workforce, and it has halted some experimental projects, as well as opted to close, delay or cancel new warehouse locations.\n",
    "\n",
    "Until now, it had managed to avoid mass layoffs by offering employees impacted by project closures the opportunity to transfer to other divisions within the company.\n",
    "\n",
    "The job cuts represent a stark reversal for Amazon, which less than a year ago couldn’t find enough workers to keep its warehouses staffed in a hot labor market and was still in the midst of a pandemic-fueled hiring spree. It nearly doubled its workforce between the end of 2019 and the end of 2021 from 798,000 employees globally to 1.6 million.\n",
    "\n",
    "Since then, it has moved to slow headcount growth as consumers have returned to physical stores, and its retail business is no longer growing at a rapid clip as it has in recent years. Amazon CFO Brian Olsavsky last month said the company is seeing signs consumers are feeling the sting of inflation.\n",
    "\n",
    "“We are preparing for what could be a slower growth period,” Olsavsky said on a call with reporters following the company’s third-quarter earnings results, which included weaker-than-expected guidance for the current period.\n",
    "\n",
    "The company still plans to bring on 150,000 employees for the holiday shopping period, the same number of workers it said it would add last year.\n",
    "\n",
    "Job cuts are hitting the tech sector hard after years of unbridled growth. Facebook parent Meta\n",
    " last week laid off 13% of its staff, while Twitter, Shopify\n",
    ", Salesforce\n",
    " and Stripe have also announced cuts.\n",
    "\n",
    "The expected layoffs would represent the biggest cut in the company’s 28-year history. In 2001, Amazon slashed 1,300 jobs, or 15% of its workforce, after the dot-com bubble burst.\n",
    "\n",
    "\n",
    "'''"
   ]
  },
  {
   "cell_type": "code",
   "execution_count": 11,
   "id": "e21645c0",
   "metadata": {},
   "outputs": [
    {
     "name": "stderr",
     "output_type": "stream",
     "text": [
      "Some weights of the model checkpoint at bert-large-uncased were not used when initializing BertModel: ['cls.predictions.transform.LayerNorm.weight', 'cls.predictions.bias', 'cls.predictions.transform.dense.bias', 'cls.seq_relationship.weight', 'cls.predictions.decoder.weight', 'cls.predictions.transform.LayerNorm.bias', 'cls.predictions.transform.dense.weight', 'cls.seq_relationship.bias']\n",
      "- This IS expected if you are initializing BertModel from the checkpoint of a model trained on another task or with another architecture (e.g. initializing a BertForSequenceClassification model from a BertForPreTraining model).\n",
      "- This IS NOT expected if you are initializing BertModel from the checkpoint of a model that you expect to be exactly identical (initializing a BertForSequenceClassification model from a BertForSequenceClassification model).\n"
     ]
    },
    {
     "name": "stdout",
     "output_type": "stream",
     "text": [
      "Amazon\n",
      " on Tuesday began laying off employees in its corporate and tech workforce as CEO Andy Jassy steps up efforts to rein in costs. Last month, she was in talks to pursue a full-time role in Amazon’s consumer division, but her interview was abruptly canceled due to ongoing restructuring, she was told. The  Amazon Spheres, part of the Amazon headquarters campus, right, in the South Lake Union neighborhood of Seattle, Washington, U.S., on Sunday, Oct. 24, 2021. Until now, it had managed to avoid mass layoffs by offering employees impacted by project closures the opportunity to transfer to other divisions within the company. Amazon CFO Brian Olsavsky last month said the company is seeing signs consumers are feeling the sting of inflation.\n"
     ]
    }
   ],
   "source": [
    "bert_model = Summarizer()\n",
    "bert_summary = ''.join(bert_model(body, min_length=60))\n",
    "print(bert_summary)"
   ]
  },
  {
   "cell_type": "code",
   "execution_count": null,
   "id": "35472103",
   "metadata": {},
   "outputs": [],
   "source": []
  }
 ],
 "metadata": {
  "kernelspec": {
   "display_name": "Python 3",
   "language": "python",
   "name": "python3"
  },
  "language_info": {
   "codemirror_mode": {
    "name": "ipython",
    "version": 3
   },
   "file_extension": ".py",
   "mimetype": "text/x-python",
   "name": "python",
   "nbconvert_exporter": "python",
   "pygments_lexer": "ipython3",
   "version": "3.8.8"
  }
 },
 "nbformat": 4,
 "nbformat_minor": 5
}
